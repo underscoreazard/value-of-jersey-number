{
 "cells": [
  {
   "cell_type": "code",
   "execution_count": 1,
   "id": "f0b968dc-ebea-4953-bf66-6e85c555d44a",
   "metadata": {},
   "outputs": [],
   "source": [
    "import requests"
   ]
  },
  {
   "cell_type": "code",
   "execution_count": 3,
   "id": "34d84e40-7d30-4f43-9e09-4c4dd462e692",
   "metadata": {},
   "outputs": [
    {
     "data": {
      "text/plain": [
       "'{\"query\":\"shinji_kagawa\",\"pageNumber\":1,\"lastPageNumber\":1,\"results\":[{\"id\":\"81785\",\"name\":\"Shinji Kagawa\",\"position\":\"AM\",\"club\":{\"name\":\"Cerezo Osaka\",\"id\":\"1022\"},\"age\":\"35\",\"nationalities\":[\"Japan\"],\"marketValue\":\"€350k\"}],\"updatedAt\":\"2024-12-05T18:52:29.125954\"}'"
      ]
     },
     "execution_count": 3,
     "metadata": {},
     "output_type": "execute_result"
    }
   ],
   "source": [
    "response = requests.get('http://localhost:8000/players/search/shinji_kagawa?page_number=1')\n",
    "response.text"
   ]
  }
 ],
 "metadata": {
  "kernelspec": {
   "display_name": "Python (transfermarkt-api-project-env)",
   "language": "python",
   "name": "transfermarkt-api-project-env"
  },
  "language_info": {
   "codemirror_mode": {
    "name": "ipython",
    "version": 3
   },
   "file_extension": ".py",
   "mimetype": "text/x-python",
   "name": "python",
   "nbconvert_exporter": "python",
   "pygments_lexer": "ipython3",
   "version": "3.9.20"
  }
 },
 "nbformat": 4,
 "nbformat_minor": 5
}
